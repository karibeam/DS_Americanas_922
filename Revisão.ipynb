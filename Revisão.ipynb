{
 "cells": [
  {
   "cell_type": "markdown",
   "id": "715dc599",
   "metadata": {},
   "source": [
    "Revisão para a prova"
   ]
  },
  {
   "cell_type": "code",
   "execution_count": 1,
   "id": "9c764e8e",
   "metadata": {
    "ExecuteTime": {
     "end_time": "2023-03-09T00:22:28.897714Z",
     "start_time": "2023-03-09T00:22:27.988464Z"
    }
   },
   "outputs": [],
   "source": [
    "import numpy as np\n",
    "from math import factorial\n",
    "\n",
    "from scipy import stats"
   ]
  },
  {
   "cell_type": "markdown",
   "id": "d5f9d477",
   "metadata": {},
   "source": [
    "**1)** Suponha que o número de meteoros encontrados por um sistema de radar em qualquer intervalo de 30 segundos sob determinadas condições é em média 1,81. Assuma que os meteoros apareçam aleatoriamente e independentemente. \n",
    "\n",
    "Usando a distribuição de Poisson, determine:\n",
    "\n",
    "a)\tA probabilidade de que nenhum meteoro seja encontrado em um intervalo de 1 minuto\n",
    "\n",
    "b)\tA probabilidade de que sejam observados no mínimo cinco porém não mais que oito meteoros em dois minutos de observação\n",
    "\n",
    "**Resolução**<br>\n",
    "Modelo de distribuição de Poisson: \n",
    "\n",
    "\\\\[ P(X=k) = \\frac{e^{-\\lambda}\\lambda^{k}}{k!} \\\\]\n",
    "\n",
    "onde lambda é a taxa de ocorrência"
   ]
  },
  {
   "cell_type": "code",
   "execution_count": 2,
   "id": "e5710ca5",
   "metadata": {
    "ExecuteTime": {
     "end_time": "2023-03-09T00:31:13.026658Z",
     "start_time": "2023-03-09T00:31:13.011537Z"
    }
   },
   "outputs": [
    {
     "name": "stdout",
     "output_type": "stream",
     "text": [
      "P(k=0) =  2.68 %\n"
     ]
    }
   ],
   "source": [
    "def func_poisson(lbd, k):\n",
    "    return np.exp(-lbd)*(lbd**k)/factorial(k)\n",
    "\n",
    "\n",
    "# a)\n",
    "lbd = (1.81 * 60)/30  # taxa em minuto\n",
    "k = 0  # frequência procurada\n",
    "\n",
    "# probabilidade\n",
    "print('P(k=0) = ', round(func_poisson(lbd, k)*100, 2), '%') # probabilidade de nenhum meteoro passar em um intervalo de 1 minuto"
   ]
  },
  {
   "cell_type": "code",
   "execution_count": 6,
   "id": "8dabb04e",
   "metadata": {
    "ExecuteTime": {
     "end_time": "2023-03-09T00:35:06.338935Z",
     "start_time": "2023-03-09T00:35:06.322434Z"
    }
   },
   "outputs": [
    {
     "name": "stdout",
     "output_type": "stream",
     "text": [
      "P(k=5) =  11.89 %\n",
      "P(k=6) =  14.35 %\n",
      "P(k=7) =  14.84 %\n",
      "P(k=8) =  13.43 %\n",
      "\n",
      "P(5 <= k <=8) =  54.51 %\n"
     ]
    }
   ],
   "source": [
    "# b)\n",
    "lbd = 1.81 * 120 / 30  # taxa em 2 minutos\n",
    "\n",
    "# k = 5, k = 6, k=7, k=8\n",
    "\n",
    "k = 5\n",
    "print('P(k=5) = ', round(func_poisson(lbd, k) * 100, 2), '%')\n",
    "k = 6\n",
    "print('P(k=6) = ', round(func_poisson(lbd, k) * 100, 2), '%')\n",
    "k = 7\n",
    "print('P(k=7) = ', round(func_poisson(lbd, k) * 100, 2), '%')\n",
    "k = 8\n",
    "print('P(k=8) = ', round(func_poisson(lbd, k) * 100, 2), '%')\n",
    "\n",
    "# Resposta\n",
    "print(\"\")\n",
    "print(\n",
    "    'P(5 <= k <=8) = ',\n",
    "    round(func_poisson(lbd, 5) * 100, 2) +\n",
    "    round(func_poisson(lbd, 6) * 100, 2) +\n",
    "    round(func_poisson(lbd, 7) * 100, 2) +\n",
    "    round(func_poisson(lbd, 8) * 100, 2), '%')"
   ]
  },
  {
   "cell_type": "code",
   "execution_count": 7,
   "id": "4a9ba951",
   "metadata": {
    "ExecuteTime": {
     "end_time": "2023-03-09T00:35:39.428182Z",
     "start_time": "2023-03-09T00:35:39.419127Z"
    }
   },
   "outputs": [
    {
     "name": "stdout",
     "output_type": "stream",
     "text": [
      "P(5<= k <=8) =  54.51 %\n"
     ]
    }
   ],
   "source": [
    "# resolvendo com o for\n",
    "\n",
    "prob = 0\n",
    "for k in range(5, 9):\n",
    "    prob = prob + round(func_poisson(lbd, k)*100, 2)\n",
    "\n",
    "print('P(5<= k <=8) = ', prob, '%')"
   ]
  },
  {
   "cell_type": "code",
   "execution_count": 8,
   "id": "c7a29e5a",
   "metadata": {
    "ExecuteTime": {
     "end_time": "2023-03-09T00:36:52.885116Z",
     "start_time": "2023-03-09T00:36:52.850069Z"
    }
   },
   "outputs": [
    {
     "data": {
      "text/plain": [
       "0.026782676492638175"
      ]
     },
     "execution_count": 8,
     "metadata": {},
     "output_type": "execute_result"
    }
   ],
   "source": [
    "# OUTRA FORMA DE RESOLVER\n",
    "\n",
    "from scipy import stats\n",
    "\n",
    "# X~Poisson(k*lambda)\n",
    "\n",
    "# a)\n",
    "# P(X = 0| lambda = 2*1.81)\n",
    "k = 0 # freq procurada\n",
    "lbd = 1.81 * 60 / 30\n",
    "\n",
    "rv = stats.poisson(lbd)\n",
    "rv.pmf(k)"
   ]
  },
  {
   "cell_type": "markdown",
   "id": "c4d9362d",
   "metadata": {},
   "source": [
    "**2**) Suponha que a probabilidade dos pais  terem um  filho(a) com cabelos loiros seja $\\frac{1}{4}$. Se houverem 6 crianças na \n",
    "família, qual é a probabilidade de que metade delas terem cabelos loiros? Resolva pela distribuição binomial.\n",
    "\n",
    "Resolução:\n",
    "\n",
    "\\\\[P(A) = \\sum P(\\{ (e_1,\\dotsc,e_N) \\})  =  \\binom{N}{k} \\cdot p^kq^{N-k}\\\\]\n",
    "\n",
    "onde p é a probabilidade de sucesso, q é a probabilidade de insucesso, k é a frequencia observada"
   ]
  },
  {
   "cell_type": "code",
   "execution_count": 9,
   "id": "33241bb3",
   "metadata": {
    "ExecuteTime": {
     "end_time": "2023-03-09T00:44:19.748855Z",
     "start_time": "2023-03-09T00:44:19.728378Z"
    }
   },
   "outputs": [],
   "source": [
    "p = 1/4  # probabilidade de sucesso\n",
    "\n",
    "n = 6  # número de filhos\n",
    "\n",
    "k = 3  # frequencia observada, procurada\n",
    "\n",
    "q = 1 - p  # probabilidade de insucesso"
   ]
  },
  {
   "cell_type": "code",
   "execution_count": 10,
   "id": "7ecc8ecf",
   "metadata": {
    "ExecuteTime": {
     "end_time": "2023-03-09T00:45:08.367918Z",
     "start_time": "2023-03-09T00:45:08.352880Z"
    }
   },
   "outputs": [
    {
     "name": "stdout",
     "output_type": "stream",
     "text": [
      "Probabilidade:  13.18 %\n"
     ]
    }
   ],
   "source": [
    "def func_binomial(n, p, k):\n",
    "    C = factorial(n) / (factorial(n - k) * factorial(k))\n",
    "    return C * np.power(p, k) * np.power(1 - p, n - k)\n",
    "\n",
    "\n",
    "print('Probabilidade: ', round(func_binomial(n, p, k) * 100, 2),'%')  #Probabilidade da metade das crianças serem loiras"
   ]
  },
  {
   "cell_type": "code",
   "execution_count": 11,
   "id": "c453e170",
   "metadata": {
    "ExecuteTime": {
     "end_time": "2023-03-09T00:45:45.037955Z",
     "start_time": "2023-03-09T00:45:45.014383Z"
    }
   },
   "outputs": [
    {
     "data": {
      "text/plain": [
       "0.13183593749999992"
      ]
     },
     "execution_count": 11,
     "metadata": {},
     "output_type": "execute_result"
    }
   ],
   "source": [
    "# outra forma de resolver\n",
    "\n",
    "# X~Bin(6,1/4)\n",
    "#P(X = 3)\n",
    "rv = stats.binom(n, p)\n",
    "rv.pmf(k)"
   ]
  },
  {
   "cell_type": "markdown",
   "id": "2a23086c",
   "metadata": {},
   "source": [
    "**3)** Se a probabilidade de atingir um alvo num único disparo é 0,3, qual é a probabilidade de que em 4 disparos o alvo seja atingido no mínimo 3 vezes? Resolva pela distribuição binomial"
   ]
  },
  {
   "cell_type": "code",
   "execution_count": 12,
   "id": "38a11644",
   "metadata": {
    "ExecuteTime": {
     "end_time": "2023-03-09T00:47:04.796433Z",
     "start_time": "2023-03-09T00:47:04.774183Z"
    }
   },
   "outputs": [
    {
     "name": "stdout",
     "output_type": "stream",
     "text": [
      "Probabilidade k = 3:  7.56 %\n",
      "Probabilidade k = 4:  0.81 %\n",
      "Probabilidade k >= 3:  8.37 %\n"
     ]
    }
   ],
   "source": [
    "p = 0.3\n",
    "\n",
    "n = 4\n",
    "\n",
    "# k >= 3 _> ele pode ser 3 ou 4\n",
    "\n",
    "print('Probabilidade k = 3: ', round(func_binomial(n, p, 3) * 100, 2), '%')\n",
    "print('Probabilidade k = 4: ', round(func_binomial(n, p, 4) * 100, 2), '%')\n",
    "\n",
    "print(\n",
    "    'Probabilidade k >= 3: ',\n",
    "    round(func_binomial(n, p, 3) * 100, 2) +\n",
    "    round(func_binomial(n, p, 4) * 100, 2), '%')"
   ]
  },
  {
   "cell_type": "code",
   "execution_count": 13,
   "id": "83fd3bc4",
   "metadata": {
    "ExecuteTime": {
     "end_time": "2023-03-09T00:47:18.135836Z",
     "start_time": "2023-03-09T00:47:18.112526Z"
    }
   },
   "outputs": [
    {
     "name": "stdout",
     "output_type": "stream",
     "text": [
      "Probabilidade k >= 3:  8.37 %\n"
     ]
    }
   ],
   "source": [
    "# usando o for para fazer a somatória\n",
    "\n",
    "prob = 0\n",
    "for k in range(3, 5):\n",
    "    prob += round(func_binomial(n, p, k) * 100, 2)\n",
    "\n",
    "print('Probabilidade k >= 3: ', prob, '%')"
   ]
  },
  {
   "cell_type": "code",
   "execution_count": 14,
   "id": "009aabb9",
   "metadata": {
    "ExecuteTime": {
     "end_time": "2023-03-09T00:47:27.470932Z",
     "start_time": "2023-03-09T00:47:27.459550Z"
    }
   },
   "outputs": [
    {
     "data": {
      "text/plain": [
       "0.0756"
      ]
     },
     "execution_count": 14,
     "metadata": {},
     "output_type": "execute_result"
    }
   ],
   "source": [
    "# outra forma de resolver\n",
    "\n",
    "n = 4\n",
    "p = 0.3\n",
    "k = 3\n",
    "\n",
    "rv = stats.binom(n, p)\n",
    "rv.pmf(k)"
   ]
  },
  {
   "cell_type": "markdown",
   "id": "c96f3bdb",
   "metadata": {},
   "source": [
    "**4**) Alberto diz que pode prever o futuro das colheitas. A comunidade em que ele vive, interessadíssima nesses poderes, se mobilizou para verificar o fato. Foi averiguado que ele acerta 80% das vezes em que diz que os tomates não vão germinar e 90% das vezes em que diz que os tomates vão germinar. Os tomates não germinam em 10% das colheitas. Se Alberto anunciar a perda da colheita, qual é a probabilidade real de que eles não germinem?"
   ]
  },
  {
   "cell_type": "code",
   "execution_count": null,
   "id": "618754a6",
   "metadata": {},
   "outputs": [],
   "source": []
  }
 ],
 "metadata": {
  "kernelspec": {
   "display_name": "Python 3 (ipykernel)",
   "language": "python",
   "name": "python3"
  },
  "language_info": {
   "codemirror_mode": {
    "name": "ipython",
    "version": 3
   },
   "file_extension": ".py",
   "mimetype": "text/x-python",
   "name": "python",
   "nbconvert_exporter": "python",
   "pygments_lexer": "ipython3",
   "version": "3.10.9"
  },
  "varInspector": {
   "cols": {
    "lenName": 16,
    "lenType": 16,
    "lenVar": 40
   },
   "kernels_config": {
    "python": {
     "delete_cmd_postfix": "",
     "delete_cmd_prefix": "del ",
     "library": "var_list.py",
     "varRefreshCmd": "print(var_dic_list())"
    },
    "r": {
     "delete_cmd_postfix": ") ",
     "delete_cmd_prefix": "rm(",
     "library": "var_list.r",
     "varRefreshCmd": "cat(var_dic_list()) "
    }
   },
   "types_to_exclude": [
    "module",
    "function",
    "builtin_function_or_method",
    "instance",
    "_Feature"
   ],
   "window_display": false
  }
 },
 "nbformat": 4,
 "nbformat_minor": 5
}
