{
 "cells": [
  {
   "cell_type": "markdown",
   "id": "9aae53e8",
   "metadata": {},
   "source": [
    "# Probabilidade"
   ]
  },
  {
   "cell_type": "markdown",
   "id": "e55a5cd8",
   "metadata": {},
   "source": [
    "## Probabilidade\n",
    "\n",
    "Probabilidade é a área da matemática que estuda **eventos aleatórios**, cujos resultados são **probabilísticos** ou **estocásticos**.\n",
    "\n",
    "Existem poucos sistemas na natureza que são de fato inerentemente aleatórias e não-determinísticas. No entanto, uma descrição determinística pode ser muito complicada, de modo que **se torna conveniente** tratar o sistema como um sistema estocástico.\n",
    "\n",
    "Ex.: lançamento de moeda, lançamento de dados, etc.\n",
    "\n",
    "O objetivo da estatística é similar: analisar dados ou criar modelos que **generalizem relações** que não podem ser determinadas diretamente uma vez que não temos acesso à população. Neste sentido, há muita probabilidade envolvida em estatística, e é por isso que vamos olhar para os principais conceitos de probabilidade.\n",
    "\n",
    "## Variável aleatória\n",
    "\n",
    "Uma **variável aleatória** é uma variável cujo valor depende de fatores **não-deterministícos**, isto é, **probabilísticos**. \n",
    "\n",
    "**Exemplo**: resultado do lançamento de um dado.\n",
    "\n",
    "<img src=\"data:image/png;base64,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\" width=300>\n",
    "\n",
    "## Espaço amostral\n",
    "\n",
    "Chamamos de **espaço amostral** o conjunto de **todos os resultados possíveis de um certo fenômeno aleatório**, ou seja, **os valores possíveis que a variável aleatória de interesse pode assumir**. Representamos o espaço amostral pela letra grega $\\omega$. \n",
    "\n",
    "Os subconjuntos de $\\omega$ são denominados **eventos** e representados pelas letras latinas maiúsculas A, B, etc. \n",
    "\n",
    "**Exemplo**: o espaço amostral dos resultados do lançamento de um dado é:\n",
    "\n",
    "$$ \\omega = \\{1, 2, 3, 4, 5, 6\\} $$\n",
    "\n",
    "Alguns eventos possíveis são:\n",
    "\n",
    "- Evento A = {3} : o resultado do lançamento do dado foi 3;\n",
    "- Evento B = {5} : o resultado do lançamento do dado foi 5.\n",
    "\n",
    "**Exemplo 2**: considere o lançamento de uma moeda:\n",
    "\n",
    "<img src=\"https://www.vertica.com/wp-content/uploads/2019/07/Coin_Flip_183981489-2160.jpg\" width=300>\n",
    "\n",
    "- Se lançarmos uma única moeda:\n",
    "    - A variável aleatória será **o resultado do lançamento da moeda**\n",
    "    - Portanto, o espaço amostral é: $$ \\omega = \\{ K, C \\} $$\n",
    "    \n",
    "- Se lançarmos uma does moedas:\n",
    "    - A variável aleatória será **o resultado do lançamento de cada moeda**\n",
    "    - Portanto, o espaço amostral é: $$ \\omega = \\{ (K, K), (K, C), (C, K), (C, C) \\} $$\n",
    "\n",
    "\n",
    "\n",
    "## Definição de probabilidade\n",
    "\n",
    "Definimos uma função $P(.)$ denominada **probabilidade** que deve satisfazer as seguintes propriedades:\n",
    "    \n",
    "- $0\\leq P(A) \\leq 1$ \n",
    "\n",
    "- $ P(\\omega)=1$\n",
    "\n",
    "- $ P(\\cup A_{j})= \\sum_{j=1}^{n}P(A_{j})$\n",
    "\n",
    "\n",
    "## Atribuindo probabilidades aos elementos do espaço amostral\n",
    "\n",
    "Há, essencialmente, duas formas de se **atribuir a probabilidade de cada evento**:\n",
    "\n",
    "> 1) Baseando-se em características teóricas acerca do experimento.\n",
    "\n",
    "**Exemplo**: ao lançarmos um dado, temos o espaço amostral $\\omega=\\{1,2,3,4,5,6\\}$.\n",
    "\n",
    "Admitindo que o dado foi construído de forma homogênea e com medidas rigorosamente simétricas, não temos nenhuma razão para **privilegiar uma face em detrimento das demais**.\n",
    "\n",
    "Assim, consideramos: $p(1) = p(2) = p(3) = p(4) = p(5) = p(6) = \\frac{1}{6}$ \n",
    "\n",
    "> 2) Fazendo muitos experimentos.\n",
    "\n",
    "**Exemplo**: imagine que temos uma moeda não-honesta, que tende cair mais vezes cara do que coroa. Para descobrirmos qual é a probabilidade de cada um dos eventos ($\\omega = \\{K, C\\}$), podemos lançar a moeda muitas vezes, e anotar os resultados:\n",
    "\n",
    "\n",
    "\n",
    "\n"
   ]
  },
  {
   "cell_type": "code",
   "execution_count": 1,
   "id": "b55c1def",
   "metadata": {
    "ExecuteTime": {
     "end_time": "2023-02-25T00:16:06.818336Z",
     "start_time": "2023-02-25T00:16:02.446643Z"
    }
   },
   "outputs": [],
   "source": [
    "import numpy as np\n",
    "import pandas as pd\n",
    "import matplotlib.pyplot as plt\n",
    "import seaborn as sns"
   ]
  },
  {
   "cell_type": "code",
   "execution_count": 2,
   "id": "0edb555f",
   "metadata": {
    "ExecuteTime": {
     "end_time": "2023-02-25T00:17:14.318264Z",
     "start_time": "2023-02-25T00:17:14.290722Z"
    }
   },
   "outputs": [
    {
     "data": {
      "text/plain": [
       "array([0.77386861, 0.05394264, 0.70779966, ..., 0.2159311 , 0.22575607,\n",
       "       0.22945341])"
      ]
     },
     "execution_count": 2,
     "metadata": {},
     "output_type": "execute_result"
    }
   ],
   "source": [
    "# simular uma moeda nâo honesta\n",
    "\n",
    "np.random.uniform(0, 1, 100000)"
   ]
  },
  {
   "cell_type": "code",
   "execution_count": 3,
   "id": "4d2e3301",
   "metadata": {
    "ExecuteTime": {
     "end_time": "2023-02-25T00:17:43.180311Z",
     "start_time": "2023-02-25T00:17:43.166803Z"
    }
   },
   "outputs": [
    {
     "data": {
      "text/plain": [
       "C    72.0\n",
       "K    28.0\n",
       "dtype: float64"
      ]
     },
     "execution_count": 3,
     "metadata": {},
     "output_type": "execute_result"
    }
   ],
   "source": [
    "p = 0.3 # fiz um código para simular enviesamento de 30% para um dos lados\n",
    "N = 100\n",
    "\n",
    "amostra = np.random.uniform(0, 1, N)\n",
    "resultados = np.where(amostra <= p, \"K\", \"C\")\n",
    "\n",
    "pd.Series(resultados).value_counts(normalize=True).apply(lambda x: round(x*100, 2))"
   ]
  },
  {
   "cell_type": "code",
   "execution_count": 4,
   "id": "1a400f4f",
   "metadata": {
    "ExecuteTime": {
     "end_time": "2023-02-25T00:18:50.352931Z",
     "start_time": "2023-02-25T00:18:50.332783Z"
    }
   },
   "outputs": [
    {
     "data": {
      "text/plain": [
       "array([0.63989102, 0.60121761, 0.12591849, 0.09120147, 0.57691563,\n",
       "       0.95130938, 0.63426908, 0.48221861, 0.09902661, 0.90095747,\n",
       "       0.93950418, 0.08525063, 0.23493303, 0.38415919, 0.4857247 ,\n",
       "       0.69242761, 0.50735072, 0.74244707, 0.13840649, 0.56946322,\n",
       "       0.15945247, 0.1550619 , 0.4377895 , 0.49644695, 0.4304086 ,\n",
       "       0.92753257, 0.48828583, 0.97156229, 0.03313655, 0.7053848 ,\n",
       "       0.52972085, 0.53049493, 0.81549846, 0.90886313, 0.38740826,\n",
       "       0.74242763, 0.70013092, 0.52095933, 0.69214649, 0.03366231,\n",
       "       0.09462173, 0.89672361, 0.43120542, 0.75162714, 0.34104982,\n",
       "       0.94737103, 0.11383311, 0.98514044, 0.72528877, 0.44788749,\n",
       "       0.49300357, 0.05130726, 0.64298671, 0.1847531 , 0.70716805,\n",
       "       0.80651311, 0.47190892, 0.46924413, 0.3343615 , 0.87400003,\n",
       "       0.8241421 , 0.53992684, 0.65527636, 0.92432522, 0.15089052,\n",
       "       0.91521973, 0.56009219, 0.7549452 , 0.63472318, 0.1940521 ,\n",
       "       0.91678318, 0.09006318, 0.09234955, 0.94272872, 0.23744804,\n",
       "       0.90525958, 0.29030018, 0.11696741, 0.43118306, 0.35556262,\n",
       "       0.56718361, 0.84184088, 0.06905534, 0.57049707, 0.52465665,\n",
       "       0.56024308, 0.27973367, 0.17075314, 0.92027147, 0.12189993,\n",
       "       0.0957575 , 0.78179389, 0.36200944, 0.1764024 , 0.86134823,\n",
       "       0.85063388, 0.05955361, 0.73865361, 0.31990859, 0.94787929])"
      ]
     },
     "execution_count": 4,
     "metadata": {},
     "output_type": "execute_result"
    }
   ],
   "source": [
    "amostra"
   ]
  },
  {
   "cell_type": "code",
   "execution_count": 5,
   "id": "a7d931de",
   "metadata": {
    "ExecuteTime": {
     "end_time": "2023-02-25T00:19:07.468614Z",
     "start_time": "2023-02-25T00:19:07.458344Z"
    }
   },
   "outputs": [
    {
     "data": {
      "text/plain": [
       "array(['C', 'C', 'K', 'K', 'C', 'C', 'C', 'C', 'K', 'C', 'C', 'K', 'K',\n",
       "       'C', 'C', 'C', 'C', 'C', 'K', 'C', 'K', 'K', 'C', 'C', 'C', 'C',\n",
       "       'C', 'C', 'K', 'C', 'C', 'C', 'C', 'C', 'C', 'C', 'C', 'C', 'C',\n",
       "       'K', 'K', 'C', 'C', 'C', 'C', 'C', 'K', 'C', 'C', 'C', 'C', 'K',\n",
       "       'C', 'K', 'C', 'C', 'C', 'C', 'C', 'C', 'C', 'C', 'C', 'C', 'K',\n",
       "       'C', 'C', 'C', 'C', 'K', 'C', 'K', 'K', 'C', 'K', 'C', 'K', 'K',\n",
       "       'C', 'C', 'C', 'C', 'K', 'C', 'C', 'C', 'K', 'K', 'C', 'K', 'K',\n",
       "       'C', 'C', 'K', 'C', 'C', 'K', 'C', 'C', 'C'], dtype='<U1')"
      ]
     },
     "execution_count": 5,
     "metadata": {},
     "output_type": "execute_result"
    }
   ],
   "source": [
    "resultados"
   ]
  },
  {
   "cell_type": "code",
   "execution_count": 6,
   "id": "61c37a20",
   "metadata": {
    "ExecuteTime": {
     "end_time": "2023-02-25T00:19:43.499622Z",
     "start_time": "2023-02-25T00:19:43.474441Z"
    }
   },
   "outputs": [
    {
     "data": {
      "text/plain": [
       "C    67.7\n",
       "K    32.3\n",
       "dtype: float64"
      ]
     },
     "execution_count": 6,
     "metadata": {},
     "output_type": "execute_result"
    }
   ],
   "source": [
    "# Outra simulação de moeda não honesta\n",
    "p = 0.3\n",
    "N = 1000\n",
    "resultados = np.where(np.random.uniform(0, 1, N) <= p, \"K\", \"C\")\n",
    "\n",
    "pd.Series(resultados).value_counts(normalize=True).apply(lambda x: round(x*100, 2))"
   ]
  },
  {
   "cell_type": "code",
   "execution_count": 17,
   "id": "86a9fa61",
   "metadata": {
    "ExecuteTime": {
     "end_time": "2023-02-25T00:25:35.862346Z",
     "start_time": "2023-02-25T00:25:35.817577Z"
    }
   },
   "outputs": [
    {
     "data": {
      "text/plain": [
       "C    69.91\n",
       "K    30.09\n",
       "dtype: float64"
      ]
     },
     "execution_count": 17,
     "metadata": {},
     "output_type": "execute_result"
    }
   ],
   "source": [
    "p = 0.3\n",
    "N = 100000\n",
    "resultados = np.where(np.random.uniform(0, 1, N) <= p, \"K\", \"C\")\n",
    "\n",
    "pd.Series(resultados).value_counts(normalize=True).apply(lambda x: round(x*100, 2))"
   ]
  },
  {
   "cell_type": "markdown",
   "id": "ca1c4e44",
   "metadata": {},
   "source": [
    "E se olharmos uma moeda honesta?"
   ]
  },
  {
   "cell_type": "code",
   "execution_count": 16,
   "id": "5ec4b545",
   "metadata": {
    "ExecuteTime": {
     "end_time": "2023-02-25T00:25:32.260352Z",
     "start_time": "2023-02-25T00:25:32.239153Z"
    }
   },
   "outputs": [
    {
     "data": {
      "text/plain": [
       "K    56.0\n",
       "C    44.0\n",
       "dtype: float64"
      ]
     },
     "execution_count": 16,
     "metadata": {},
     "output_type": "execute_result"
    }
   ],
   "source": [
    "p = 0.5\n",
    "N = 100\n",
    "resultados = np.where(np.random.uniform(0, 1, N) <= p, \"K\", \"C\")\n",
    "\n",
    "pd.Series(resultados).value_counts(normalize=True).apply(lambda x: round(x*100, 2))"
   ]
  },
  {
   "cell_type": "code",
   "execution_count": 9,
   "id": "d7cc48f9",
   "metadata": {
    "ExecuteTime": {
     "end_time": "2023-02-25T00:21:26.990358Z",
     "start_time": "2023-02-25T00:21:26.974180Z"
    }
   },
   "outputs": [
    {
     "data": {
      "text/plain": [
       "K    55.0\n",
       "C    45.0\n",
       "dtype: float64"
      ]
     },
     "execution_count": 9,
     "metadata": {},
     "output_type": "execute_result"
    }
   ],
   "source": [
    "p = 0.5\n",
    "N = 100\n",
    "resultados = np.where(np.random.uniform(0, 1, N) <= p, \"K\", \"C\")\n",
    "\n",
    "pd.Series(resultados).value_counts(normalize=True).apply(lambda x: round(x*100, 2))"
   ]
  },
  {
   "cell_type": "code",
   "execution_count": 13,
   "id": "d40aba45",
   "metadata": {
    "ExecuteTime": {
     "end_time": "2023-02-25T00:24:49.257177Z",
     "start_time": "2023-02-25T00:24:49.236236Z"
    }
   },
   "outputs": [
    {
     "data": {
      "text/plain": [
       "K    51.3\n",
       "C    48.7\n",
       "dtype: float64"
      ]
     },
     "execution_count": 13,
     "metadata": {},
     "output_type": "execute_result"
    }
   ],
   "source": [
    "p = 0.5\n",
    "N = 1000\n",
    "resultados = np.where(np.random.uniform(0, 1, N) <= p, \"K\", \"C\")\n",
    "\n",
    "pd.Series(resultados).value_counts(normalize=True).apply(lambda x: round(x*100, 2))"
   ]
  },
  {
   "cell_type": "code",
   "execution_count": 14,
   "id": "0407a907",
   "metadata": {
    "ExecuteTime": {
     "end_time": "2023-02-25T00:25:00.913349Z",
     "start_time": "2023-02-25T00:25:00.889205Z"
    }
   },
   "outputs": [
    {
     "data": {
      "text/plain": [
       "K    60.0\n",
       "C    40.0\n",
       "dtype: float64"
      ]
     },
     "execution_count": 14,
     "metadata": {},
     "output_type": "execute_result"
    }
   ],
   "source": [
    "p = 0.5\n",
    "N = 10\n",
    "resultados = np.where(np.random.uniform(0, 1, N) <= p, \"K\", \"C\")\n",
    "\n",
    "pd.Series(resultados).value_counts(normalize=True).apply(lambda x: round(x*100, 2))"
   ]
  },
  {
   "cell_type": "markdown",
   "id": "8ad105c8",
   "metadata": {
    "ExecuteTime": {
     "end_time": "2023-02-17T17:42:12.964440Z",
     "start_time": "2023-02-17T17:42:12.943495Z"
    }
   },
   "source": [
    "## Probabilidade da União de Eventos\n",
    "\n",
    "Dados dois elementos $A$ e $B$, o cálculo da união desses eventos é determinada da seguinte forma:\n",
    "    \n",
    "$$ P(A ∪ B) = P(A) + P(B) - P(A ∩ B) $$\n",
    "\n",
    "__Exemplo:__   Qual é a probabilidade de que em um lançamento de um dado saia um número par ou maior do que três?"
   ]
  },
  {
   "cell_type": "code",
   "execution_count": null,
   "id": "f4eef07e",
   "metadata": {},
   "outputs": [],
   "source": [
    "# Definir espaço amostral\n",
    "S(dado) = {1, 2, 3, 4, 5, 6}\n",
    "\n",
    "# Espaço amostral A: número par\n",
    "S(A) = {2, 4, 6}\n",
    "P(A) = 3/6 = 1/2\n",
    "\n",
    "# Espaço amostral B: maior do que 3\n",
    "S(B) = {4, 5, 6}\n",
    "P(B) = 3/6 = 1/2\n",
    "\n",
    "# Espaço amostral A ∩ B : número par e maior do que 3\n",
    "S(A ∩ B) = {4, 6}\n",
    "P(A ∩ B) = 2/6 = 1/3\n",
    "\n",
    "# Espaço amostral A ∪ B : número par ou maior do que 3\n",
    "S(A ∪ B) = {2, 4, 5, 6}\n",
    "P(A ∪ B) = 4/6 = 2/3\n",
    "\n",
    "# Probabilidade da União de A e B:\n",
    "P(A ∪ B) = P(A) + P(B) - P(A ∩ B) = 1/2 + 1/2 - 1/3 = 2/3"
   ]
  },
  {
   "cell_type": "markdown",
   "id": "0446d85b",
   "metadata": {},
   "source": [
    "## Probabilidade Condicional\n",
    "\n",
    "Seja dois eventos A e B, a probabilidade condicional entre esses eventos é definada como:\n",
    "    \n",
    "$$ P(A | B) = \\frac{P(A ∩ B)}{P(B)} $$\n",
    "\n",
    "Lembrando que isso é possível se e somente se $ P(B) > 0$.\n",
    "\n",
    "A forma mais comum de ler um problema de probabilidade condicional seria __\"qual a probabilidade de ocorrer o evento A, dado que ocorreu o evento B\"__.\n",
    "\n",
    "__Exemplo:__  Qual a probabilidade de ao lançar um dado sair um número par, dado que o número que saiu é maior do que 1?"
   ]
  },
  {
   "cell_type": "code",
   "execution_count": null,
   "id": "8cc1d602",
   "metadata": {},
   "outputs": [],
   "source": [
    "# Espaço Amostral\n",
    "S = {1, 2, 3, 4, 5, 6}\n",
    "\n",
    "# Evento B: maior do que 1\n",
    "B = {2, 3, 4, 5, 6}\n",
    "P(B) = 5/6\n",
    "\n",
    "# Evento A: número par\n",
    "A = {2, 4, 6}\n",
    "\n",
    "# Probabilidade de ocorrer A dado que o B já ocorreu: fórmula\n",
    "P(A | B)\n",
    "\n",
    "# Evento A ∩ B\n",
    "A ∩ B = {2, 4, 6}\n",
    "P(A ∩ B) = 3/6 = 1/2\n",
    "\n",
    "# Voltando na fórmula: P(A | B)\n",
    "P(A | B) = P(A ∩ B) / P(B) = (1/2)/(5/6) = 3/5"
   ]
  },
  {
   "cell_type": "markdown",
   "id": "6006ac1e",
   "metadata": {},
   "source": [
    "## Eventos Independentes\n",
    "\n",
    "Dois eventos $A$ e $B$ são independentes, se e somente se acontecer a seguinte condição:\n",
    "    \n",
    "$$ P(A ∩ B) = P(A)P(B) $$\n",
    "\n",
    "__Exemplo 1:__   Foi lançado um dado e uma moeda, qual é a probabilidade de ocorrer um número ímpar **e** sai cara na moeda?\n"
   ]
  },
  {
   "cell_type": "code",
   "execution_count": null,
   "id": "96c582ed",
   "metadata": {},
   "outputs": [],
   "source": [
    "# Evento A - Número ímpar no Dado\n",
    "S(A) = {1, 3, 5}\n",
    "P(A) = 3/6 = 1/2\n",
    "\n",
    "# Evento B - Sair cara na Moeda\n",
    "S(B) = {K}\n",
    "P(B) = 1/2\n",
    "\n",
    "# Probabilidade de A ∩ B\n",
    "P(A ∩ B) = P(A)P(B) = 1/2 * 1/2 = 1/4\n",
    "\n",
    "# Espaço Amostral Dado e Moeda\n",
    "S = {(1,K), (2,K), (3,K), (4,K), (5,K), (6,K),\n",
    "     (1,C), (2,C), (3,C), (4,C), (5,C), (6,C)}\n",
    "\n",
    "S(A ∩ B) =  {(1,K), (3,K), (5,K)}\n",
    "P(A ∩ B) = 3/12 = 1/4"
   ]
  },
  {
   "cell_type": "markdown",
   "id": "72e6c409",
   "metadata": {},
   "source": [
    "__Exemplo 2:__ Em uma caixa temos 8 bolas pretas e 12 brancas. Vamos calcular a probabilidade de alguns casos:\n",
    "\n",
    "__A)__ A primeira bola sorteada foi uma bola branca, qual a probabilidade disso ocorrer?"
   ]
  },
  {
   "cell_type": "code",
   "execution_count": null,
   "id": "686f6e2e",
   "metadata": {},
   "outputs": [],
   "source": [
    "P(B) = (bolas brancas) / (total de bolas) = 12/20 = 3/5"
   ]
  },
  {
   "cell_type": "markdown",
   "id": "4a760335",
   "metadata": {},
   "source": [
    "__B)__ Depois do primeiro sorteio qual a probabilidade de sair uma bola preta, no caso que foi devolvida a bola do primeiro sorteio para a caixa"
   ]
  },
  {
   "cell_type": "code",
   "execution_count": null,
   "id": "ba1bf996",
   "metadata": {},
   "outputs": [],
   "source": [
    "P(A) = (bolas pretas) / (total de bolas) = 8/20 = 2/5"
   ]
  },
  {
   "cell_type": "markdown",
   "id": "a7f2ecf8",
   "metadata": {},
   "source": [
    "__C)__ Como ficaria essa probabilidade da bola preta caso a bola branca não seja devolvida a caixa?"
   ]
  },
  {
   "cell_type": "code",
   "execution_count": null,
   "id": "62ac5053",
   "metadata": {},
   "outputs": [],
   "source": [
    "P(C) = (bolas pretas) / (total de bolas - 1) = 8/19"
   ]
  },
  {
   "cell_type": "markdown",
   "id": "8437b1c4",
   "metadata": {},
   "source": [
    "__D)__ Qual a probabilidade de sortear primeiro uma bola preta e depois uma branca, com reposição neste caso?"
   ]
  },
  {
   "cell_type": "code",
   "execution_count": null,
   "id": "644ef413",
   "metadata": {},
   "outputs": [],
   "source": [
    "P(A ∩ B) = P(A)P(B) = P(preta)P(branca)= (2/5)*(3/5) = 6/25"
   ]
  },
  {
   "cell_type": "markdown",
   "id": "e65c1316",
   "metadata": {},
   "source": [
    "__E)__ Repita o item __D__ agora aplicando para o caso sem reposição."
   ]
  },
  {
   "cell_type": "code",
   "execution_count": null,
   "id": "00b152d5",
   "metadata": {},
   "outputs": [],
   "source": [
    "# Aqui calculamos a partir da probabilidade condicional\n",
    "P(A ∩ B) = P(B | A)P(A) = P(branca | preta)P(preta)\n",
    "\n",
    "# Probabilidade condicional\n",
    "# Dado que saiu uma bola preta, o nosso espaço amostral agora contem 19 bolas\n",
    "P(branca | preta) = 12/19\n",
    "\n",
    "P(A ∩ B) = P(branca | preta)P(preta) = (12/19)*(8/20) = 24/95"
   ]
  },
  {
   "cell_type": "markdown",
   "id": "2efd3bb0",
   "metadata": {},
   "source": [
    "Propriedade importante sobre a probabilidade condicional! Seja os eventos A e B e a definição da probabilidade condicional:\n",
    "\n",
    "$$ P(A | B) = \\frac{P(A ∩ B)}{P(B)} $$\n",
    "\n",
    "Se pegarmos a probabilidade condicional agora do evento B dado que ocorreu o A:\n",
    "\n",
    "$$ P(B | A) = \\frac{P(A ∩ B)}{P(A)} $$\n",
    "\n",
    "Dessa forma conseguimos tirar a seguinte relação:\n",
    "\n",
    "$$ P(A | B)P(B) = P(B | A)P(A) $$\n",
    "    "
   ]
  },
  {
   "cell_type": "markdown",
   "id": "aff5a09f",
   "metadata": {},
   "source": [
    "## Teorema de Bayes\n",
    "\n",
    "O **Teorema de Bayes** é um conceito importantíssimo da probabilidade e uma das ferramentas mais importantes de serem aprendidas para um Cientista de Dados, pois é a base de uma área com muitas aplicações práticas chamada [inferência bayesiana](https://en.wikipedia.org/wiki/Bayesian_inference).\n",
    "\n",
    "O Teorema de Bayes é uma forma **calcular probabilidades condicionais de forma reversa**.\n",
    "\n",
    "Vamos considerar o clássico exemplo para explicar o teorema. \n",
    "\n",
    "Temos uma determinada doença C, e um teste T utilizado para detectar esta doença. \n",
    "\n",
    "O teste não é 100% confiável, indicando pessoas que **não têm a doença como doentes (falsos positivos)** e **não detectando a doença em pessoas que a possuem (falsos negativos)**\n",
    "\n",
    "> Consideremos que 1% das pessoas possui a doença: $P(C) = 0.01$\n",
    "\n",
    "> Logo, 99% das pessoas não a possui: $P(¬C) = 0.99$\n",
    "\n",
    "O teste detecta a doença em pessoas efetivamente doentes 90% das vezes e, consequentemente, não detecta a doença em pessoas doentes em 10% dos casos. \n",
    "\n",
    "Em pessoas não doentes, o teste detecta a doença (erradamente) em 5% dos casos e não detecta em 95% dos casos. Podemos resumir desta forma:\n",
    "\n",
    "|                | Pessoa Doente | Pessoa Não Doente |\n",
    "|----------------|---------------|-------------------|\n",
    "| Teste positivo | 90 %          | 5 %               |\n",
    "| Teste Negativo | 10 %          | 95 %              |\n",
    "\n",
    "A tabela acima é chamada de **matriz de confusão**, indicando fora da diagonal os caos confusos (errados), e na diagonal os casos corretos\n",
    "\n",
    "<img src=\"https://miro.medium.com/max/2102/1*fxiTNIgOyvAombPJx5KGeA.png\" width=300>\n",
    "\n",
    "Agora, a chance de você **ter a doença e o teste detecta-la (verdadeiro positivo)** é igual **a chance de você ter a doença multiplicado pela chance do teste ter dado positivo corretamente**;\n",
    "\n",
    "Analogamente, a chance de você **não ter a doença e o teste detecta-la mesmo assim (falso positivo)** é igual **a chance de você não ter a doença multiplicado pela chance do teste ter dado positivo incorretamente**;\n",
    "\n",
    "E assim por diante, para todos os resultados. Atualizamos então a tabela, que fica assim:\n",
    "\n",
    "|                | Pessoa Doente                            | Pessoa Não Doente                               | Soma\n",
    "|----------------|------------------------------------------|-------------------------------------------------|-------|\n",
    "| **Teste positivo** | Prob Doente e teste pos: 1% × 90% = 0,9% | Prob Não Doente e teste pos: 99% × 5% = 4,95%   | 5,85%\n",
    "| **Teste Negativo** | Prob Doente e teste neg: 1% × 10% = 0,1% | Prob Não Doente e teste neg: 99% × 95% = 94,05% | 94,15%\n",
    "| **Soma** | 1% | 99% | 100%\n",
    "\n",
    "Estas então são nossas probabilidades para cada evento. Note que, se somadas, o resultado é 1, ou 100%. \n",
    "\n",
    "Agora, vamos supor que você fez o teste e o **resultado deu positivo**. \n",
    "\n",
    "Como devemos interpretar este resultado? Qual a chance de você de fato ter a doença? \n",
    "\n",
    "Considerando o cálculo básico de probabilidade, temos que a chance de ter a doença é igual à **chance do evento desejado dividido por todas as possibilidades**. \n",
    "\n",
    "O evento desejado é um positivo verdadeiro, ou seja, **teste positivo e a pessoa com doença**. Para este caso, a probabilidade é de 0,9% (olhe na tabela!) \n",
    "\n",
    "O **total de possibilidades com relação ao teste positivo** seria a **soma da probabilidade de “doente e teste pos”** (verdadeiro positivo) com **“não doente e teste pos” (falso positivo)**, que resultará em 0,9% + 4,95%, igual a 5,85%.\n",
    "\n",
    "Fazendo toda a conta, nossa chance de ter a doença se temos um teste positivo é de **0,9%/5,85% = 0.1538**, ou **15,38%**. \n",
    "\n",
    "É uma chance bem mais baixa do que imaginamos apenas ao olhar para o problema e para a suposta precisão do teste!\n",
    "\n",
    "#### Em equações, temos:\n",
    "\n",
    "* P(C|+) = Probabilidade de ter a doença dado um teste positivo (este é a probabilidade que desejamos saber)\n",
    "\n",
    "* P(C) = Probabilidade da pessoa ter a doença = 1%\n",
    "\n",
    "* P(+|C) = Probabilidade de um teste positivo se a pessoa tem a doença = 0,9% \n",
    "\n",
    "* P(+|¬C) = Probabilidade de um teste positivo se a pessoa não tem a doença = 4,95%\n",
    "\n",
    "    **O Teorema de bayes diz que :**\n",
    "    \n",
    "    \n",
    "$$ P(C|+) = \\frac{P(+|C) \\ P(C)}{P(+|C) \\ P(C)  + P(+|¬ C) \\ P(¬ C)}    $$"
   ]
  },
  {
   "cell_type": "code",
   "execution_count": null,
   "id": "ddf965d3",
   "metadata": {},
   "outputs": [],
   "source": []
  },
  {
   "cell_type": "markdown",
   "id": "f521bc1e",
   "metadata": {},
   "source": [
    "### Exercícios\n",
    "__1)__ Um teste para identificação de malária na população amazônica possui uma taxa de 8% de falso positivo e 2% de falso negativo, ou seja, em 8% dos não-infectados acusa como infectados, e em 2% dos infectados acusa como não infectados. Sabendo que atualmente 0,4% da população amazônica está infectada, calcule a probabilidade de um paciente cujo teste apontou positivo estar realmente não infectado."
   ]
  },
  {
   "cell_type": "code",
   "execution_count": null,
   "id": "6acb2e84",
   "metadata": {},
   "outputs": [],
   "source": []
  },
  {
   "cell_type": "code",
   "execution_count": null,
   "id": "fc787c14",
   "metadata": {},
   "outputs": [],
   "source": []
  },
  {
   "cell_type": "markdown",
   "id": "1a7a9afc",
   "metadata": {},
   "source": [
    "__2)__ Luiza tem um pote de cápsulas de café onde têm cápsulas de diversas cores. Então Luiza decidiu contar quantas cápsulas de cada ela tem:\n",
    "\n",
    "- Azul: 10 cápsulas\n",
    "- Roxo: 7 cápsulas\n",
    "- Preto: 8 cápsulas\n",
    "- Vermelho: 5 cápsulas\n",
    "\n",
    "Colocando todas as cápsulas de volta e escolhendo duas quaisquer para tomar, qual a probabilidade de Luiza pegar aleatoriamente primeiro uma cápsula azul e depois uma vermelha, dado que são eventos independentes?"
   ]
  },
  {
   "cell_type": "code",
   "execution_count": null,
   "id": "cb416e0e",
   "metadata": {},
   "outputs": [],
   "source": []
  },
  {
   "cell_type": "code",
   "execution_count": null,
   "id": "72465b0d",
   "metadata": {},
   "outputs": [],
   "source": []
  },
  {
   "cell_type": "markdown",
   "id": "18d46cf1",
   "metadata": {},
   "source": [
    "__3)__ Se uma moeda for lançada 5 vezes, qual é a probabilidade de sair pelo menos 4 caras?"
   ]
  },
  {
   "cell_type": "code",
   "execution_count": null,
   "id": "e3413813",
   "metadata": {},
   "outputs": [],
   "source": []
  },
  {
   "cell_type": "code",
   "execution_count": null,
   "id": "78dd7efd",
   "metadata": {},
   "outputs": [],
   "source": []
  },
  {
   "cell_type": "markdown",
   "id": "fe391bd1",
   "metadata": {},
   "source": [
    "__4)__ Dois dados são lançados e vamos definir os eventos A e B como:\n",
    "    \n",
    "- __A__: a soma dos dados é igual a 6;\n",
    "    \n",
    "- __B__: saiu o valor 4 no primeiro dado.\n",
    "    \n",
    "Esses eventos são independentes?"
   ]
  },
  {
   "cell_type": "code",
   "execution_count": null,
   "id": "152d8eca",
   "metadata": {},
   "outputs": [],
   "source": []
  }
 ],
 "metadata": {
  "kernelspec": {
   "display_name": "Python 3 (ipykernel)",
   "language": "python",
   "name": "python3"
  },
  "language_info": {
   "codemirror_mode": {
    "name": "ipython",
    "version": 3
   },
   "file_extension": ".py",
   "mimetype": "text/x-python",
   "name": "python",
   "nbconvert_exporter": "python",
   "pygments_lexer": "ipython3",
   "version": "3.10.9"
  },
  "varInspector": {
   "cols": {
    "lenName": 16,
    "lenType": 16,
    "lenVar": 40
   },
   "kernels_config": {
    "python": {
     "delete_cmd_postfix": "",
     "delete_cmd_prefix": "del ",
     "library": "var_list.py",
     "varRefreshCmd": "print(var_dic_list())"
    },
    "r": {
     "delete_cmd_postfix": ") ",
     "delete_cmd_prefix": "rm(",
     "library": "var_list.r",
     "varRefreshCmd": "cat(var_dic_list()) "
    }
   },
   "types_to_exclude": [
    "module",
    "function",
    "builtin_function_or_method",
    "instance",
    "_Feature"
   ],
   "window_display": false
  }
 },
 "nbformat": 4,
 "nbformat_minor": 5
}
