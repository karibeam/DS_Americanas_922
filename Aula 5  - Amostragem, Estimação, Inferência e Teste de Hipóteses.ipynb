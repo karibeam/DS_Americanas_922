{
 "cells": [
  {
   "cell_type": "markdown",
   "id": "948dcd6e",
   "metadata": {},
   "source": [
    "# 05 - Amostragem, Estimação, Inferência e Teste de Hipóteses\n",
    "\n",
    "Nessa aula, iremos tratar dos seguintes conteúdos:\n",
    "- Noções sobre Amostragem\n",
    "- Terminologia\n",
    "- Tipos de amostragem\n",
    "- Métodos de Amostragem\n",
    "- Tamanho amostral"
   ]
  },
  {
   "cell_type": "markdown",
   "id": "4d4c932a",
   "metadata": {},
   "source": [
    "## "
   ]
  },
  {
   "cell_type": "code",
   "execution_count": 1,
   "id": "f1e64f5e",
   "metadata": {},
   "outputs": [],
   "source": [
    "import pandas as pd\n",
    "import numpy as np\n",
    "import matplotlib.pyplot as plt\n",
    "import seaborn as sns\n",
    "\n",
    "# função para calcular a probabilidade a partir do Z Score\n",
    "import scipy.stats as st"
   ]
  },
  {
   "cell_type": "markdown",
   "id": "68acb14d",
   "metadata": {},
   "source": [
    "## "
   ]
  },
  {
   "cell_type": "markdown",
   "id": "d6222f0f",
   "metadata": {},
   "source": [
    "# Noções sobre Amostragem\n",
    "\n",
    "<br>\n",
    "\n",
    "Aplicar __amostragem__ faz parte do cotidiano das pessoas sem mesmo elas saberem, como por exemplo na culinária, ao cozinhar um feijão para saber se está com suficiente sal e temperos, é retirado uma pequena porção par experimentar e a partir desta porção conclui-se a respeito do feijão como um todo. Tem exemplos também como em análises clínicas, ao retirar amostras de sangue e outro fluídos para a análise e identificação de eventuais alterações. Vale ressaltar que ambos os exemplos, não seria viável analisar o todo para ter conclusões satisfatórias.\n",
    "\n",
    "Em Estátistica, __amostragem__ representa este procedimento quevisa obter informações sobre o todo baseando-se no resultado de uma amostra.\n",
    "\n",
    "<br>\n",
    "\n",
    "<img src= \"https://solvis.com.br/wp-content/uploads/2021/02/imagem-para-blog-calculadora-de-amostragem-quantas-respostas-precisa-ter-na-pesquisa-solvis-e1613076591189.png\" width=500>\n",
    "\n",
    "Fonte [Solvis](https://solvis.com.br/wp-content/uploads/2021/02/imagem-para-blog-calculadora-de-amostragem-quantas-respostas-precisa-ter-na-pesquisa-solvis-e1613076591189.png)\n",
    "\n",
    "<br><br>\n"
   ]
  },
  {
   "cell_type": "markdown",
   "id": "56667ba1",
   "metadata": {},
   "source": [
    "### Terminologia sobre Amostragem\n",
    "\n",
    "<br>\n",
    "\n",
    "Será necessário definir algumas terminologias normalmente utilizadas quando se fala a respeito de amostragem. Este parâmetros estão descritos a seguir:\n",
    "\n",
    "- **População**: ou Universo é o conjunto de todas as unidades elementares de interesse. A população deve ser definida claramente e em termos da informação que se pretende conhecer;\n",
    "\n",
    "<br>\n",
    "\n",
    "- **Unidade**: trata-se de qualquer elemento da população;\n",
    "\n",
    "<br>\n",
    "\n",
    "- **Amostra**: uma parte ou subconjunto da população;\n",
    "\n",
    "<br>\n",
    "\n",
    "- **Censo**:  observação de todos os elementos da população;\n",
    "\n",
    "<br>\n",
    "\n",
    "- **Parâmetro Populacional**: é o vetor correspondente a todos os valores de uma variável de interesse. Pode ser qualitativa (gosto musical, opnião sobre o governo, etc) ou quantitativa (média, proporção, quantidade, etc).\n",
    "\n",
    "<br>\n",
    "\n",
    "- **Função Paramétrica Populacional**:  é uma característica numérica da população, ou seja, uma expressão numérica que condensa os valores do vetor de parâmetro populacional. Por exemplo, média, total, proporção, dentre outros.\n",
    "\n",
    "<br>\n",
    "\n",
    "\n",
    "Utilizando como exemplo, considere uma população formada por 4 alunos de uma escola. Com as seguintes caracteristicas:\n",
    "\n",
    "<br>\n",
    "\n",
    "<table>\n",
    "    <th style=\"text-align: center; border: 1px solid black\">Variável</th>\n",
    "    <th style=\"text-align: center; border: 1px solid black\" colspan=\"4\">Valores</td>\n",
    "    <tr style=\" border: 1px solid black\">\n",
    "        <td style=\"text-align: center; border: 1px solid black\">Aluno</td>\n",
    "        <td style=\"text-align: center; border: 1px solid black\">1</td>\n",
    "        <td style=\"text-align: center; border: 1px solid black\">2</td>\n",
    "        <td style=\"text-align: center; border: 1px solid black\">3</td>\n",
    "        <td style=\"text-align: center; border: 1px solid black\">4</td>\n",
    "    </tr>\n",
    "    <tr style=\"text-align: center; border: 1px solid black\">\n",
    "        <td style=\"text-align: center; border: 1px solid black\">Nome</td>\n",
    "        <td style=\"text-align: center; border: 1px solid black\">Luiz</td>\n",
    "        <td style=\"text-align: center; border: 1px solid black\">Marcela</td>\n",
    "        <td style=\"text-align: center; border: 1px solid black\">Pedro</td>\n",
    "        <td style=\"text-align: center; border: 1px solid black\">Julia</td>\n",
    "    </tr>\n",
    "    <tr style=\"text-align: center; border: 1px solid black\">\n",
    "        <td style=\"text-align: center; border: 1px solid black\">Idade</td>\n",
    "        <td style=\"text-align: center; border: 1px solid black\">15</td>\n",
    "        <td style=\"text-align: center; border: 1px solid black\">14</td>\n",
    "        <td style=\"text-align: center; border: 1px solid black\">13</td>\n",
    "        <td style=\"text-align: center; border: 1px solid black\">16</td>\n",
    "    </tr>\n",
    "        <tr style=\"text-align: center; border: 1px solid black\">\n",
    "        <td style=\"text-align: center; border: 1px solid black\">Sexo</td>\n",
    "        <td style=\"text-align: center; border: 1px solid black\">M</td>\n",
    "        <td style=\"text-align: center; border: 1px solid black\">F</td>\n",
    "        <td style=\"text-align: center; border: 1px solid black\">M</td>\n",
    "        <td style=\"text-align: center; border: 1px solid black\">F</td>\n",
    "    </tr>\n",
    "</table>\n",
    "\n",
    "<br>\n",
    "\n",
    "Neste exemplo, cada aluno é um elemento da população. Com relação à amostragem os subconjuntos (Luiz, Marcela), (Pedro, Julia), (Marcela) são **exemplos de amostra**. **Parâmetros populacionais**: $idade = (15, 14, 13, 16)$ e $sexo = (M, F, M, F)$. Com relação às **funções paramétricas**, poderíamos definir:\n",
    "\n",
    "- Idade média: fazendo idade = I:\n",
    "\n",
    "$$\\mu = \\overline{I} = \\frac{\\sum_{i=1}^{4}I_i}{4}=\\frac{15 + 14 + 13 + 16}{4} = 14,5$$\n",
    "\n",
    "- Idade máxima: max(Y)= max(15, 14, 13, 16) = 16\n",
    "\n",
    "\n",
    "- Porporção de meninas: sexo = Y = (M, F, M, F)\n",
    "\n",
    "$$p(F) = \\frac{1}{2} = 0,5 $$\n",
    "\n",
    "<br><br>\n"
   ]
  },
  {
   "cell_type": "markdown",
   "id": "191e9e86",
   "metadata": {},
   "source": [
    "### Tipos de Amostragem\n",
    "\n",
    "<br>\n",
    "\n",
    "Sobre a amostragem, pode-se classicá-la em dois tipos a respeito sobre as probabilidade destas amostra:\n",
    "\n",
    "<br>\n",
    "\n",
    "- **Amostra Probabilística**: todos os elementos da população apresentam probabilidade maior que zero de serem selecionados;\n",
    "\n",
    "<br>\n",
    "\n",
    "- **Amostra Não-Probabilística**: quando não há probabilidade clara/conhecida de seleção dos elementos. Os elementos são escolhidos de forma julgamental;\n",
    "\n",
    "<br><br>\n"
   ]
  },
  {
   "cell_type": "markdown",
   "id": "fa4810cb",
   "metadata": {},
   "source": [
    "### Quando utilizar amostras?\n",
    "\n",
    "<br>\n",
    "\n",
    "Como no exemplo do feijão e do paciente, existe alguns casos que são ideais para utilizar de amostras em análises. A seguir, será listada alguns casos de aplicação de amostragem:\n",
    "\n",
    "<br>\n",
    "\n",
    "- __Populações infinitas__: Quando é possível investigar todos os elementos de uma população;\n",
    "\n",
    "- __Teste Destrutivos__: Estudos onde os elementos avaliados  passaraõ por algum processo de transformação, sendo este processo destrutivo para a amostra. Exemplo: Ensaio sobre fadiga em asas de avião;\n",
    "\n",
    "- __Resultados Rápidos__: Pesquisas que precisam de mais agilidade na divulgação. Exemplo: pesquisas de opinião, pesquisas que envolvam problemas de saúde pública;\n",
    "\n",
    "- __Custos Elevados__: Quando a população é finita mas muito numerosa, o custo de um censo pode tornar o processo inviável. Exemplo: modelar uma base de 10 milhões de clientes em uma máquina local não adequada.\n",
    "\n",
    "<br><br>\n"
   ]
  },
  {
   "cell_type": "markdown",
   "id": "19657dec",
   "metadata": {},
   "source": [
    "## Métodos de Amostragem\n",
    "\n",
    "\n",
    "<br>\n",
    "\n",
    "Neste material, será abordado apenas os métodos relacionados à amostragem probabilística, que tem como objetivo de obter uma **amostra representativa**. Uma amostra é considerada representativa quando consegue **refletir as caracteristicas da população**.\n",
    "\n",
    "<br><br>\n",
    "\n",
    "### Amostra Aleatória Simples\n",
    "\n",
    "<br>\n",
    "\n",
    "Este é o método mais simples e mais importante de seleção de uma amostra, pois pode ser usada em combinação com outros métodos. A premissa assumida é que a população é homogênea com relação à característica de interesse.\n",
    "\n",
    "A amostra aleatória simples pode ser realizada com ou sem reposição. No caso em que há reposição, cada elemento pode ser sorteado mais de uma vez. Para exemplificar, suponha que se queira sortear um número aleatório de uma urna, se for uma AAS com reposição,  este número voltará para urna para participar do próximo sorteio. Se não houver reposição, cada elemento só poderá ser selecionado uma vez para compor a amostra.\n",
    " \n",
    "Considere uma população formada por $N$ elementos (conhecido e finito). Este método consiste em selecionar $n$ elementos, sendo que cada elemento tem a mesma probabilidade de ser selecionado.\n",
    "\n",
    "**Exemplo  de Aplicação**: Considere uma população formada por 50 alunos. Selecionar de forma aleatória 10 alunos, sem reposição.\n"
   ]
  },
  {
   "cell_type": "code",
   "execution_count": null,
   "id": "d95a9114",
   "metadata": {},
   "outputs": [],
   "source": []
  },
  {
   "cell_type": "markdown",
   "id": "f603ab82",
   "metadata": {},
   "source": [
    "### Amostra Sistemática\n",
    "\n",
    "<br>\n",
    "\n",
    "Usada quando os elementos população estão ordenados (população de lista telefônica, casas em uma rua). Considere uma população de tamanho $N$ e que se queira uma amostra de tamanho $n$. O processo de amostragem deste método consiste em:\n",
    "\n",
    "- Dividir o tamanho populacional em $K$ partes:\n",
    "$$ k = \\frac{N}{n} $$\n",
    "\n",
    "- Definir a posição de início da amostragem (que também será o primeiro elemento da amostra). Para tal fim, é sorteado $i$ com o uso da amostra aleatória simples no intervalo, em que  $i \\in [1, k]$;\n",
    "\n",
    "- A partir do elemento selecionado aleatoriamente, é realizada sucessão aritimética para selecionar os $n-1$ indivíduos restantes:\n",
    "$$i, i + k, i + 2k, i + 3k, ...., i + (n-1)k$$\n",
    "\n",
    "Segue um exemplo de como implementar uma amostragem sistemática utilizado o _Python_:\n"
   ]
  },
  {
   "cell_type": "code",
   "execution_count": null,
   "id": "d44135d5",
   "metadata": {},
   "outputs": [],
   "source": []
  },
  {
   "cell_type": "markdown",
   "id": "42a91439",
   "metadata": {},
   "source": [
    "### Amostra Estratificada \n",
    "\n",
    "<br>\n",
    "\n",
    "Trata-se do método em que a população é dividida em grupos (estratos) segundo alguma(s) característica(s) conhecida(s) na população sob estudo. São exemplos de estrato o gênero, faixa etária, região geográfica, profiissão. No geral, é usada quando a população é heterogênea sob a ótica das características analisadas. Procedimento de amostragem:\n",
    "\n",
    "- Dividir as $N$ unidades da população em $N_1, N_2, \\cdots , N_j$ estratos distintos e homogêneos;\n",
    "\n",
    "- Selecionar, ao acaso, uma amostra de tamanhos $n_1, n_2, \\cdots , n_j$ , de modo que o tamanho da amostra seja $n = n_1+n_2+ \\cdots +n_j$. O tamanho amostral pode ser proporcional à representatividade do estrato.\n",
    "\n",
    "<br>\n",
    "\n",
    "<img src= \"https://viacarreira.com/wp-content/uploads/2020/11/amostra-de-pesquisa-2.png\" width = 500>\n",
    "\n",
    "Fonte: [Via Carreira](https://viacarreira.com/wp-content/uploads/2020/11/amostra-de-pesquisa-2.pn)\n",
    "\n",
    "<br>\n",
    "\n",
    "**Exemplo  de Aplicação**: Considere a população formada pelos integrantes de uma escola. Dependendo do objetivo do estudo, esta população poderia ser dividida em alunos, professores, e demais funcionários (grupos mais homogêneos com relação à função na escola). Agora considere que a proporção de cada estrato seja: 60% alunos, 30% professores e 10% servidores. A amostragem poderia ser realizada dentro de cada estrato de forma que o tamanho amostral preserve esta característica. Sendo assim, se amostra total é $n$, a composição será $0,6 \\times n$ de alunos, $0,3\\times n$ de professores e $0,10\\times n$ de servidores.\n",
    "\n",
    "<br><br>\n",
    "\n",
    "### Amostra por Conglomerados\n",
    "\n",
    "<br>\n",
    "\n",
    "A população é dividida em subpopulações (conglomerados) heterogêneas distintas (quarteirões, residências, famílias, bairros, etc.). Alguns dos conglomerados são selecionados segundo amostra aleatória simples e **todos os elementos** nos conglomerados selecionados são observados. Note que amostragem é feita sobre os conglomerados, e não mais sobre os indivíduos da população. Este procedimento amostral é adequado quando é possível dividir a população em um grande número de pequenas subpopulações.\n",
    "\n",
    "Geralmente este método é usado quando os sistemas de referência da população não são adequados e o custo para atualização é alto, ou quando identificar os elementos da população em campo é cara e consome muito tempo.\n",
    "\n",
    "**Exemplo de Aplicação**: Suponha que o objetivo de uma pesquisa seja determinar a renda média familiar de moradores de uma cidade. Dificilmente dispõe-se de uma lista de famílias, a unidade elementar da população de interesse. Pode-se usar como sistema de referência a lista de setores censitários do IBGE. Neste caso, os setores censitários seriam os conglomerados.\n",
    "\n",
    "<br>"
   ]
  },
  {
   "cell_type": "markdown",
   "id": "c9a6f431",
   "metadata": {},
   "source": [
    "## Bootstrap ou Bootstrapping\n",
    "\n",
    "O __Bootstrapping__ é uma interessante técnica de reamostragem, que consiste em gerar amostras aleatórias a partir de uma amostra de uma população finita:\n",
    "\n",
    "<img src=\"https://miro.medium.com/max/724/0*FKUvC_NQ5w7eEX6l.png\" width=800>\n",
    "\n",
    "Está é uma técnica facil de aplicar utilizando programação devido aos milhares de processos de reamostragem e vem ganhando espaço dentro de _Machine Learning_ em modelos baseados em testes massivo, servindo como base parao modelo de floresta aleatória (_Random Forest_).\n",
    "\n",
    "Técnicas de testagem massivas utilizando amostras aleatórias podem ser conhecidas também como __Métodos de Monte Carlo.__"
   ]
  }
 ],
 "metadata": {
  "kernelspec": {
   "display_name": "Python 3 (ipykernel)",
   "language": "python",
   "name": "python3"
  },
  "language_info": {
   "codemirror_mode": {
    "name": "ipython",
    "version": 3
   },
   "file_extension": ".py",
   "mimetype": "text/x-python",
   "name": "python",
   "nbconvert_exporter": "python",
   "pygments_lexer": "ipython3",
   "version": "3.10.9"
  },
  "varInspector": {
   "cols": {
    "lenName": 16,
    "lenType": 16,
    "lenVar": 40
   },
   "kernels_config": {
    "python": {
     "delete_cmd_postfix": "",
     "delete_cmd_prefix": "del ",
     "library": "var_list.py",
     "varRefreshCmd": "print(var_dic_list())"
    },
    "r": {
     "delete_cmd_postfix": ") ",
     "delete_cmd_prefix": "rm(",
     "library": "var_list.r",
     "varRefreshCmd": "cat(var_dic_list()) "
    }
   },
   "types_to_exclude": [
    "module",
    "function",
    "builtin_function_or_method",
    "instance",
    "_Feature"
   ],
   "window_display": false
  }
 },
 "nbformat": 4,
 "nbformat_minor": 5
}
