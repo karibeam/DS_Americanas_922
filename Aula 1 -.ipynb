{
 "cells": [
  {
   "cell_type": "markdown",
   "id": "dd85444e",
   "metadata": {},
   "source": [
    "#  Apresentação"
   ]
  },
  {
   "cell_type": "markdown",
   "id": "590e3db0",
   "metadata": {},
   "source": [
    "Renata Martins Marchese\n",
    "\n",
    "- https://www.linkedin.com/in/renatamarchese/\n",
    "- Email: renata.marchese@ada.tech\n",
    "- Material: https://github.com/renatapink/DS_Americanas_922\n",
    "\n",
    "- Material no class\n",
    "- Chat do class"
   ]
  },
  {
   "cell_type": "code",
   "execution_count": null,
   "id": "f37e86d5",
   "metadata": {},
   "outputs": [],
   "source": [
    "# "
   ]
  },
  {
   "cell_type": "code",
   "execution_count": null,
   "id": "f4fd7342",
   "metadata": {},
   "outputs": [],
   "source": []
  },
  {
   "cell_type": "code",
   "execution_count": null,
   "id": "f0c57e51",
   "metadata": {},
   "outputs": [],
   "source": []
  },
  {
   "cell_type": "code",
   "execution_count": null,
   "id": "f5463172",
   "metadata": {},
   "outputs": [],
   "source": []
  }
 ],
 "metadata": {
  "kernelspec": {
   "display_name": "Python 3 (ipykernel)",
   "language": "python",
   "name": "python3"
  },
  "language_info": {
   "codemirror_mode": {
    "name": "ipython",
    "version": 3
   },
   "file_extension": ".py",
   "mimetype": "text/x-python",
   "name": "python",
   "nbconvert_exporter": "python",
   "pygments_lexer": "ipython3",
   "version": "3.10.9"
  },
  "varInspector": {
   "cols": {
    "lenName": 16,
    "lenType": 16,
    "lenVar": 40
   },
   "kernels_config": {
    "python": {
     "delete_cmd_postfix": "",
     "delete_cmd_prefix": "del ",
     "library": "var_list.py",
     "varRefreshCmd": "print(var_dic_list())"
    },
    "r": {
     "delete_cmd_postfix": ") ",
     "delete_cmd_prefix": "rm(",
     "library": "var_list.r",
     "varRefreshCmd": "cat(var_dic_list()) "
    }
   },
   "types_to_exclude": [
    "module",
    "function",
    "builtin_function_or_method",
    "instance",
    "_Feature"
   ],
   "window_display": false
  }
 },
 "nbformat": 4,
 "nbformat_minor": 5
}
